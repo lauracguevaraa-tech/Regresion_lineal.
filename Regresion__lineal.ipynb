{
  "nbformat": 4,
  "nbformat_minor": 0,
  "metadata": {
    "colab": {
      "provenance": [],
      "include_colab_link": true
    },
    "kernelspec": {
      "name": "python3",
      "display_name": "Python 3"
    },
    "language_info": {
      "name": "python"
    }
  },
  "cells": [
    {
      "cell_type": "markdown",
      "metadata": {
        "id": "view-in-github",
        "colab_type": "text"
      },
      "source": [
        "<a href=\"https://colab.research.google.com/github/lauracguevaraa-tech/Regresion_lineal./blob/main/Regresion__lineal.ipynb\" target=\"_parent\"><img src=\"https://colab.research.google.com/assets/colab-badge.svg\" alt=\"Open In Colab\"/></a>"
      ]
    },
    {
      "cell_type": "markdown",
      "metadata": {
        "id": "WFpTYZ6Y6vQ-"
      },
      "source": [
        "# Taller 3: Regresión Lineal y Conceptos Fundamentales\n",
        "\n",
        "\n"
      ]
    },
    {
      "cell_type": "markdown",
      "metadata": {
        "id": "1KuTZ6PkH8e5"
      },
      "source": [
        "## Instrucciones Generales\n",
        "\n",
        "**Fecha de entrega:** 20 de septiembre.\n",
        "**Tiempo disponible:** Tienen dos clases y el fin de semana para completar el taller.\n",
        "\n",
        "1.  **Trabajo en Grupo:** Este taller se debe realizar en los grupos previamente definidos.\n",
        "2.  **Repositorio en GitHub:** Cada grupo debe crear un repositorio en GitHub.\n",
        "    * Una sola persona del grupo es responsable de crearlo.\n",
        "    * El repositorio debe llamarse **`Regresion_Lineal`**.\n",
        "    * Este archivo debe ser subido al repositorio con el nombre **`Regresion_Lineal.ipynb`**.\n",
        "    * **Alternativa:** Si tienen complicaciones con GitHub, pueden enviar el enlace del cuaderno de Google Colab al aula virtual.\n",
        "3.  **Actividad a Mano (20% de la nota):**\n",
        "    * La asistencia a clase es **obligatoria**.\n",
        "    * Se realizará una actividad práctica de regresión lineal a mano.\n",
        "    * Cada integrante del grupo deberá firmar la hoja de la actividad, la cual constituye el 20% de la nota de este taller."
      ]
    },
    {
      "cell_type": "markdown",
      "metadata": {
        "id": "mgaEeFAbH8e7"
      },
      "source": [
        "---"
      ]
    },
    {
      "cell_type": "markdown",
      "metadata": {
        "id": "et22XL5bH8e7"
      },
      "source": [
        "## **Parte 1: Definición del Problema**\n",
        "\n",
        "Piensa en tu experiencia académica o laboral en un área de operaciones y elige **un problema** relacionado con inventarios, calidad, mantenimiento o productividad.\n",
        "\n",
        "1.  Indica cuál es tu variable dependiente **$Y$** (aquello que quieres predecir o clasificar).\n",
        "2.  Lista entre 3 y 5 variables independientes **$X$** que medirías para predecir $Y$.\n",
        "3.  Especifica si tu problema es de **regresión** (predecir un valor numérico) o de **clasificación**."
      ]
    },
    {
      "cell_type": "markdown",
      "metadata": {
        "id": "pxSLPR4AH8e8"
      },
      "source": [
        "Problema: En la planta de embutidos de Brahman SAS, la planificación de inventarios presenta dificultades debido a la variación en la demanda de productos como chorizos, salchichas y mortadelas. En temporadas altas o durante promociones, se generan quiebres de stock que afectan el cumplimiento de pedidos; mientras que en temporadas bajas se acumula exceso de inventario que aumenta el riesgo de vencimiento y pérdidas económicas. La empresa necesita contar con un modelo predictivo que le permita anticipar la demanda semanal de sus productos clave para tomar mejores decisiones de producción y compras.\n",
        "\n",
        "\n",
        "**Respuesta 1:** Variable dependiente (Y): Rechazo del lote en control de calidad (Sí / No).\n",
        "\n",
        "Variables independientes (X):\n",
        "\n",
        "Temperatura de la materia prima al ingreso.\n",
        "\n",
        "Conteo microbiológico inicial.\n",
        "\n",
        "Porcentaje de grasa en la mezcla.\n",
        "\n",
        "Tiempo de mezcla/amasado.\n",
        "\n",
        "Tipo de problema: Clasificación.\n",
        "\n",
        "\n",
        "\n",
        "**Respuesta 2**: Variable dependiente (Y): Demanda semanal de chorizo (unidades).\n",
        "\n",
        "Variables independientes (X):\n",
        "\n",
        "Ventas de las 4 semanas anteriores.\n",
        "\n",
        "Promociones o descuentos vigentes.\n",
        "\n",
        "Presencia de días festivos o eventos especiales.\n",
        "\n",
        "Estación del año (verano/invierno).\n",
        "\n",
        "Tipo de problema: Regresión.\n",
        "\n",
        "\n",
        "**Respuesta 3**: Variable dependiente (Y): Falla de la embutidora en los próximos 7 días (Sí / No).\n",
        "\n",
        "Variables independientes (X):\n",
        "\n",
        "Vibración promedio del motor.\n",
        "\n",
        "Temperatura del motor.\n",
        "\n",
        "Horas de operación desde el último mantenimiento.\n",
        "\n",
        "Número de paradas de emergencia en el último mes.\n",
        "\n",
        "Tipo de problema: Clasificación.\n"
      ]
    },
    {
      "cell_type": "markdown",
      "metadata": {
        "id": "fGoj1KxxH8e8"
      },
      "source": [
        "---"
      ]
    },
    {
      "cell_type": "markdown",
      "metadata": {
        "id": "eHOtOSQiH8e9"
      },
      "source": [
        "## **Parte 2: Preprocesamiento de Datos y *Leakage***\n",
        "\n",
        "Basado en el caso que definiste en la Parte 1:\n",
        "\n",
        "1.  Lista entre 3 y 5 **transformaciones** que aplicarías a tus datos (ej. imputación de valores faltantes, codificación de variables categóricas, escalado, creación de *lags*, etc.) y **justifica por qué** cada una es necesaria.\n",
        "2.  Señala un posible riesgo de ***data leakage*** (fuga de datos) en tu plan y explica cómo lo evitarías usando un *pipeline* de preprocesamiento."
      ]
    },
    {
      "cell_type": "markdown",
      "metadata": {
        "id": "6KYkmr9mH8e9"
      },
      "source": [
        "**Respuesta :** :\n",
        "\n",
        "a) Imputación de valores faltantes en temperatura de refrigeración:\n",
        "\n",
        "Qué: Completar registros donde faltan datos de temperatura en cámaras frigoríficas\n",
        "Justificación: La temperatura es crítica para la seguridad alimentaria y calidad del producto. Los valores faltantes podrían ocultar problemas de conservación que afecten la predicción de calidad o vida útil del embutido.\n",
        "\n",
        "b) Codificación de variables categóricas del tipo de carne:\n",
        "\n",
        "Qué: Convertir variables como \"res\", \"cerdo\", \"pollo\" en variables numéricas usando one-hot encoding\n",
        "Justificación: Los algoritmos de ML requieren datos numéricos. Cada tipo de carne tiene características diferentes (grasa, proteína, textura) que impactan directamente en el proceso de embutido y calidad final.\n",
        "\n",
        "c) Escalado de variables de proceso (tiempo de cocción, presión, humedad):\n",
        "\n",
        "Qué: Normalizar variables que tienen diferentes rangos (ej. tiempo en minutos vs presión en PSI)\n",
        "Justificación: Evita que variables con valores grandes dominen el modelo. En producción de embutidos, parámetros como tiempo (0-120 min) y presión (0-50 PSI) necesitan igual importancia en las predicciones.\n",
        "d) Creación de lag features para control de calidad:\n",
        "\n",
        "Qué: Generar variables que capturen valores de lotes anteriores (pH, humedad del lote anterior)\n",
        "Justificación: En producción de embutidos, las condiciones del lote previo pueden afectar el siguiente debido a residuos en equipos o condiciones ambientales de la planta.\n",
        "\n",
        "2. Riesgo de Data Leakage en Brahman SAS:\n",
        "Posible riesgo: Incluir datos de inspección final de calidad (como resultado microbiológico o fecha de vencimiento determinada) en un modelo que predice si un lote será aprobado o rechazado."
      ]
    },
    {
      "cell_type": "markdown",
      "metadata": {
        "id": "hbyCKrY6H8e-"
      },
      "source": [
        "---"
      ]
    },
    {
      "cell_type": "markdown",
      "metadata": {
        "id": "ukCTM2EKH8e-"
      },
      "source": [
        "## **Parte 3: Interpretación y Métricas de Regresión Simple**\n",
        "\n",
        "Para esta sección, elige un caso simple de regresión (puede ser el tuyo o uno hipotético, como predecir la demanda de un producto según su precio).\n",
        "\n",
        "1.  Define claramente las variables **$Y$** y **$X$** junto con sus **unidades** (ej. $Y$: número de unidades vendidas, $X$: precio en dólares).\n",
        "2.  Supón que entrenas un modelo y obtienes una pendiente de **$\\hat{\\beta}_1 = -0.6$**. Escribe una interpretación clara y concisa de este coeficiente en el contexto de tu problema.\n",
        "3.  ¿Qué **métrica** de evaluación usarías (MAE, RMSE, o MAPE) y **por qué** es la más adecuada para tu caso?\n",
        "4.  Menciona **un supuesto** del modelo de regresión lineal que validarías (ej. linealidad, homocedasticidad) y explica **cómo** lo harías (usando un gráfico o una prueba estadística)."
      ]
    },
    {
      "cell_type": "markdown",
      "metadata": {
        "id": "5KGzW8pSH8e_"
      },
      "source": [
        "**Respuesta :**\n",
        "\n",
        "Caso de Estudio: Predecir la demanda semanal de chorizo premium según su precio de venta.\n",
        "1. Definición de Variables:*\n",
        "Y: Demanda semanal de chorizo premium (unidades de paquetes de 500g vendidos por semana)\n",
        "X: Precio de venta al público (pesos colombianos por paquete de 500g)\n",
        "\n",
        "2. Interpretación del Coeficiente β₁ = -0.6:\n",
        "En el contexto de Brahman SAS, este coeficiente significa que por cada peso adicional que aumentemos el precio del chorizo premium, esperamos que la demanda disminuya en 0.6 paquetes por semana, manteniendo todo lo demás constante.\n",
        "Desde el punto de vista de negocio, esto tiene mucho sentido porque refleja la ley de la demanda: cuando los productos se vuelven más caros, los consumidores tienden a comprar menos. Para una empresa como Brahman, esto es súper importante para definir estrategias de precios y proyecciones de ventas.\n",
        "3. Métrica de Evaluación - MAPE (Mean Absolute Percentage Error):\n",
        "Elegiría MAPE como la métrica más adecuada porque:\n",
        "Es fácil de interpretar para los gerentes de Brahman (se expresa en porcentaje)\n",
        "Permite comparar el error independientemente de la escala de ventas\n",
        "Es útil para planificación de producción (si el error es 15%, sabemos que nuestras predicciones están dentro de un rango manejable)\n",
        "\n",
        "\n",
        "* Por ejemplo, si MAPE = 12%, significa que en promedio nos equivocamos en un 12% en nuestras predicciones de demanda, lo cual es información muy valiosa para planificar la producción semanal.\n",
        "\n",
        "4. Supuesto a Validar - Homocedasticidad:\n",
        "Supuesto: La varianza de los errores debe ser constante a lo largo de todos los niveles de precio.\n",
        "Cómo lo validaría:\n",
        "Haría un gráfico de dispersión de los residuos vs. valores predichos. Si veo que los residuos forman como un \"embudo\" (más dispersos en ciertos rangos de precio), significaría que hay heterocedasticidad.\n",
        "\n",
        "* Ejemplo práctico: Si noto que para precios altos ($15,000-$20,000) la variabilidad de la demanda es mucho mayor que para precios bajos ($8,000-$12,000), esto podría indicar que factores externos (como la competencia o la sensibilidad del consumidor) afectan más cuando el producto es caro.\n",
        "\n",
        "Solución: Si encuentro heterocedasticidad, podría usar transformaciones logarítmicas en las variables o aplicar mínimos cuadrados ponderados para obtener estimaciones más confiables que nos ayuden a tomar mejores decisiones comerciales en Brahman."
      ]
    },
    {
      "cell_type": "markdown",
      "metadata": {
        "id": "NlCf92svH8e_"
      },
      "source": [
        "---"
      ]
    },
    {
      "cell_type": "markdown",
      "metadata": {
        "id": "DEOrd_fSH8e_"
      },
      "source": [
        "## **Parte 4: Regresión Múltiple y Colinealidad**\n",
        "\n",
        "Volviendo a tu caso de la Parte 1 (con múltiples variables).\n",
        "\n",
        "1.  Escribe el **vector de variables** $\\vec{X}$ y la **respuesta** $Y$.\n",
        "2.  Explica cómo interpretarías el **coeficiente** de una de tus variables clave (incluyendo unidades y el sentido de la relación: positiva o negativa).\n",
        "3.  Si sospecharas que existe **colinealidad** entre tus variables, menciona **dos acciones** que podrías tomar para mitigarla."
      ]
    },
    {
      "cell_type": "markdown",
      "metadata": {
        "id": "REUWPUP_H8fA"
      },
      "source": [
        "**Respuesta:**\n",
        "\n",
        "1. Variables del Modelo:\n",
        "Vector X (Variables predictoras):\n",
        "\n",
        "* X₁: Temperatura de cocción (°C)\n",
        "\n",
        "* X₂: Tiempo de procesamiento (minutos)\n",
        "\n",
        "* X₃: Porcentaje de grasa en la mezcla (%)\n",
        "\n",
        "* X₄: pH de la masa cárnica\n",
        "\n",
        "* X₅: Humedad relativa de la cámara (%)\n",
        "\n",
        "* X₆: Presión de embutido (PSI)\n",
        "\n",
        "Variable Y.\n",
        "\n",
        "Y: Puntaje de calidad del embutido (escala 0-100, donde 100 es calidad óptima)\n",
        "\n",
        "2. Interpretación de Coeficiente Clave:\n",
        "Supongamos que el coeficiente del pH (X₄) = +12.5\n",
        "Interpretación: Por cada unidad que aumenta el pH de la masa cárnica, el puntaje de calidad del embutido aumenta en 12.5 puntos, manteniendo constantes la temperatura, tiempo, grasa, humedad y presión.\n",
        "Sentido de la relación: Positiva - Esto tiene sentido desde el punto de vista técnico porque un pH ligeramente más alto (dentro del rango óptimo 5.8-6.2) mejora la capacidad de retención de agua de las proteínas, lo que resulta en mejor textura y jugosidad del embutido final.\n",
        "Unidades: El coeficiente se expresa en \"puntos de calidad por unidad de pH\".\n",
        "3. Acciones para Mitigar Colinealidad:\n",
        "Si sospecho que existe colinealidad (por ejemplo, entre temperatura y tiempo de cocción, que suelen estar correlacionados):\n",
        "Acción 1: Análisis del Factor de Inflación de Varianza (VIF)\n",
        "\n",
        "Calcularía el VIF para cada variable\n",
        "Si VIF > 5, consideraría que hay colinealidad problemática\n",
        "Ejemplo: Si temperatura y tiempo tienen VIF = 8.2, confirmaría el problema\n",
        "\n",
        "Acción 2: Combinación de Variables Correlacionadas\n",
        "\n",
        "Crearía una nueva variable compuesta: \"Índice de Tratamiento Térmico\"\n",
        "Combinaría temperatura y tiempo usando su relación física conocida\n",
        "Fórmula: ITT = (Temperatura × Tiempo) / 100\n",
        "Esto mantiene la información relevante pero elimina la redundancia\n",
        "\n",
        "En Brahman SAS, esta aproximación es más útil porque el \"tratamiento térmico total\" es lo que realmente importa para la calidad del producto, no cada variable por separado. Además, simplifica la interpretación para el equipo de producción y hace el modelo más robusto para predicciones futuras.\n",
        "\n"
      ]
    },
    {
      "cell_type": "markdown",
      "metadata": {
        "id": "Kfz2bBkzH8fA"
      },
      "source": [
        "---"
      ]
    },
    {
      "cell_type": "markdown",
      "metadata": {
        "id": "d0sQYW3DH8fA"
      },
      "source": [
        "## **Parte 5: Interacciones y Multicolinealidad (VIF)**\n",
        "\n",
        "1.  Plantea un caso con una variable $Y$ y entre 4 y 6 variables $X$. ¿Qué término de **interacción** entre dos variables podrías añadir al modelo y **por qué** crees que sería útil?\n",
        "2.  Si al calcular el Factor de Inflación de la Varianza (VIF) para una variable, obtienes un valor alto (ej. > 10), menciona **dos acciones** que podrías tomar para solucionarlo."
      ]
    },
    {
      "cell_type": "markdown",
      "metadata": {
        "id": "tEgefQ1cH8fA"
      },
      "source": [
        "**Respuesta :**\n",
        "\n",
        "**Brahman SAS:**\n",
        "Predecir el rendimiento de producción de salchichas (kg producidos por hora)\n",
        "\n",
        "**Variable Y**: Rendimiento de producción (kg/hora)\n",
        "\n",
        "Variables X:\n",
        "\n",
        "* X₁: Velocidad de la máquina embutidora (m/min)\n",
        "\n",
        "* X₂: Temperatura de la masa cárnica (°C)\n",
        "\n",
        "* X₃: Experiencia del operario (años)\n",
        "\n",
        "* X₄: Viscosidad de la mezcla (cP - centipoise)\n",
        "\n",
        "* X₅: Humedad ambiente de la planta (%)\n",
        "\n",
        "Término de interacción propuesto: X₁ × X₂ (Velocidad × Temperatura)\n",
        "\n",
        "¿Por qué sería útil?\n",
        "Esta interacción captura que el efecto de la velocidad de la máquina sobre el rendimiento depende de la temperatura de la masa.\n",
        "\n",
        "**Ejemplo práctico:**\n",
        "\n",
        "A baja temperatura (5°C): aumentar velocidad puede reducir rendimiento porque la masa está muy dura\n",
        "A temperatura óptima (12°C): aumentar velocidad mejora significativamente el rendimiento\n",
        "A alta temperatura (18°C): aumentar velocidad puede causar problemas de consistencia\n",
        "\n",
        "En términos simples, no es lo mismo procesar rápido con masa fría vs. masa a temperatura ideal. La interacción nos permite modelar esta realidad operativa de Brahman.\n",
        "\n",
        "2. Soluciones para VIF Alto (ej. VIF = 15.2):\n",
        "Supongamos que la variable \"Humedad ambiente\" tiene VIF = 15.2, indicando multicolinealidad severa.\n",
        "\n",
        "Eliminación de Variable Redundante\n",
        "\n",
        "* Investigaría qué variables están causando la colinealidad\n",
        "Si encuentro que \"Humedad ambiente\" está muy correlacionada con \"Temperatura ambiente\"\n",
        "\n",
        "Combinación de Variables (Análisis de Componentes Principales)\n",
        "\n",
        "* Crearía un \"Índice de Condiciones Ambientales\" que combine humedad, temperatura ambiente, y tal vez presión barométrica\n",
        "Usaría PCA para crear una variable compuesta que capture la esencia de las condiciones climáticas\n"
      ]
    },
    {
      "cell_type": "markdown",
      "metadata": {
        "id": "8XdQIyu_H8fB"
      },
      "source": [
        "---"
      ]
    },
    {
      "cell_type": "markdown",
      "metadata": {
        "id": "XKsr-uPlH8fB"
      },
      "source": [
        "## **Parte 6: Variables Categóricas e Interacciones**\n",
        "\n",
        "1.  Define una **variable categórica** para tu caso (puedes inventarla si no la tenías). Elige una de sus categorías como el nivel **base** o de referencia y **justifica** tu elección.\n",
        "2.  Crea una **interacción** entre una variable numérica y la variable categórica que definiste. Explica cómo se interpretaría el coeficiente de esta interacción."
      ]
    },
    {
      "cell_type": "markdown",
      "metadata": {
        "id": "7i_JBwwbH8fC"
      },
      "source": [
        "**Respuesta:**\n",
        "1. Variable Categórica: Tipo de Embutido\n",
        "Definición: Variable que clasifica el tipo de embutido producido en Brahman SAS\n",
        "Categorías:\n",
        "\n",
        "Chorizo (nivel base/referencia)\n",
        "\n",
        "Salchicha\n",
        "\n",
        "Carne hamburguesa\n",
        "\n",
        "Jamon\n",
        "\n",
        "**Justificación **\n",
        "\n",
        "\n",
        "Elegiría chorizo como referencia porque es el producto más tradicional y representativo de Brahman SAS. Además, desde el punto de vista estadístico, es útil tener como base el producto con mayor volumen de producción, lo que facilita la interpretación de los coeficientes de las otras categorías en términos de \"diferencia respecto al chorizo\".\n",
        "\n",
        "2. Interacción: Temperatura × Tipo de Embutido\n",
        "\n",
        "Planteamiento:\n",
        "Crear una interacción entre \"Temperatura de cocción\" (variable numérica) y \"Tipo de embutido\" (variable categórica).\n",
        "\n",
        "Modelo resultante:\n",
        "\n",
        "Temperatura × Chorizo (omitido por ser referencia)\n",
        "\n",
        "Temperatura × Salchicha\n",
        "\n",
        "Temperatura × Morcilla\n",
        "\n",
        "Temperatura × Longaniza\n",
        "\n",
        "\n",
        "**Interpretación del coeficiente:**\n",
        "\n",
        "El coeficiente de \"Temperatura × Salchicha = -0.8\"\n",
        "Significado: La pendiente del efecto de la temperatura sobre la calidad es 0.8 puntos menor para salchichas comparado con chorizos.\n",
        "\n",
        "\n",
        "\n",
        "Para chorizo: por cada grado que aumento la temperatura, la calidad mejora en β puntos\n",
        "Para salchicha: por cada grado que aumento la temperatura, la calidad mejora en (β - 0.8) puntos\n",
        "\n",
        "\n",
        "Esta interacción permite que el modelo capture que no existe una \"temperatura óptima universal\" sino que cada tipo de embutido tiene su propia curva de respuesta térmica, lo cual es súper valioso para optimizar los procesos específicos de cada producto en la planta.\n",
        "\n",
        "\n",
        "\n"
      ]
    },
    {
      "cell_type": "markdown",
      "metadata": {
        "id": "DjYrQWpqH8fC"
      },
      "source": [
        "---"
      ]
    },
    {
      "cell_type": "markdown",
      "metadata": {
        "id": "mG9YJpeoH8fC"
      },
      "source": [
        "## **Parte 7: Conceptos Clave de Clasificación**\n",
        "\n",
        "Aunque el taller se centra en regresión, estos conceptos son fundamentales en Machine Learning.\n",
        "\n",
        "1.  Explica qué es la **curva ROC** y para qué se utiliza en un problema de clasificación.\n",
        "2.  Define el concepto de **accuracy** (exactitud) y menciona una situación en la que podría ser una métrica engañosa.\n",
        "3.  Describe qué es una **matriz de confusión** y cómo se interpretan sus componentes (Verdaderos Positivos, Falsos Positivos, Verdaderos Negativos, Falsos Negativos)."
      ]
    },
    {
      "cell_type": "markdown",
      "metadata": {
        "id": "aq-cYN3nH8fD"
      },
      "source": [
        "**Respuesta:**\n",
        "1. Curva ROC (Receiver Operating Characteristic)\n",
        "\n",
        "**¿Qué es?**\n",
        "\n",
        "\n",
        "La curva ROC es un gráfico que muestra el rendimiento de un modelo de clasificación binaria en todos los umbrales de clasificación. Grafica la Tasa de Verdaderos Positivos (Sensibilidad) en el eje Y contra la Tasa de Falsos Positivos (1-Especificidad) en el eje X.\n",
        "\n",
        "**¿Para qué se utiliza en clasificación?**\n",
        "\n",
        "* Se utiliza para evaluar qué tan bien distingue el modelo entre\n",
        "las dos clases\n",
        "\n",
        "* Comparar diferentes modelos (el que tenga mayor área bajo la curva AUC es mejor)\n",
        "\n",
        "* Seleccionar el umbral óptimo de clasificación según las necesidades del negocio\n",
        "\n",
        "\n",
        "2. Accuracy (Exactitud)\n",
        "\n",
        "**Definición**:\n",
        "\n",
        "Proporción de predicciones correctas sobre el total de predicciones.\n",
        "\n",
        "Fórmula: Accuracy = (VP + VN) / (VP + VN + FP + FN)\n",
        "\n",
        "\n",
        "Problemas con las  clases desbalanceadas, el accuracy no refleja la capacidad real del modelo para identificar la clase minoritaria (que suele ser la más importante desde el punto de vista de negocio).\n",
        "\n",
        "3. Matriz de Confusión\n",
        "\n",
        "**¿Qué es? **\n",
        "\n",
        "Una tabla 2x2 que resume las predicciones de un modelo de clasificación binaria comparándolas con los valores reales.\n",
        "\n",
        "Verdaderos Positivos (VP): Lotes realmente aptos que clasificamos correctamente como aptos\n",
        "\n",
        "Productos de calidad que llegan al mercado ✓\n",
        "\n",
        "\n",
        "Falsos Positivos (FP): Lotes realmente no aptos que clasificamos incorrectamente como aptos\n",
        "\n",
        "Productos defectuosos que llegan al mercado ✗ (RIESGO ALTO)\n",
        "\n",
        "\n",
        "Verdaderos Negativos (VN): Lotes realmente no aptos que clasificamos correctamente como no aptos\n",
        "\n",
        "Productos defectuosos que rechazamos correctamente ✓\n",
        "\n",
        "\n",
        "Falsos Negativos (FN): Lotes realmente aptos que clasificamos incorrectamente como no aptos\n",
        "\n",
        "Productos buenos que desechamos ✗ (PÉRDIDA ECONÓMICA)"
      ]
    }
  ]
}